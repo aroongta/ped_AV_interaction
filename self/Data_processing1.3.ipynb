{
 "cells": [
  {
   "cell_type": "markdown",
   "metadata": {},
   "source": [
    "# Data Info\n",
    "## ewap_dataset\n",
    "- This sequence was acquired from the top of the ETH main building, Zurich in 2009.\n",
    "- ETH Walking Pedestrians (EWAP).\n",
    "- The annotation was done at at 2.5 fps, i.e. with timestep 0.4 seconds.\n",
    "- The actual annotation is stored in the obsmat.txt file.\n",
    "- Each line is stored in the format [frame_number, Pedestrian_ID, pos_x, pos_z, pos_y, v_x, v_z, v_y].\n",
    "- Pos_z and v_z are not used.\n",
    "- Positions and velocities are in metres.\n",
    "- They tried to keep note of the people that seemsd to walk in gropus, listed in the file groups.txt."
   ]
  },
  {
   "cell_type": "code",
   "execution_count": 3,
   "metadata": {},
   "outputs": [],
   "source": [
    "import numpy as np\n",
    "import matplotlib.pyplot as plt"
   ]
  },
  {
   "cell_type": "code",
   "execution_count": 4,
   "metadata": {},
   "outputs": [],
   "source": [
    "# Returns 3 dictionaries with keys: pedestrian id's &  as sequences of of frames, x and y coordinates respectively\n",
    "def data_process(file_path,minSeq_len):\n",
    "# file_path='/home/roongtaaahsih/ped_traj/ewap_dataset/seq_eth/obsmat.txt'\n",
    "    data=np.genfromtxt(file_path)\n",
    "    ped_ids=np.unique(data[:,1]) #extracting uniqe id's fpr pedestrians\n",
    "    ped_frames={} #has pedestrian id's as keys and a list of the frames which the pedestrian is observed in \n",
    "    ped_X={} #keys: pedestrian ids; value: list of pedestrian x coordinates in each frame\n",
    "    ped_Y={} #key: oedestrian id's; value: list of pedestrin y coordinates in respective frames\n",
    "    for peds in ped_ids:\n",
    "        if(len(data[:,0][data[:,1]==peds])>=minSeq_len):\n",
    "            ped_frames[peds]=data[:,0][data[:,1]==peds]\n",
    "            ped_X[peds]=data[:,2][data[:,1]==peds]\n",
    "            ped_Y[peds]=data[:,4][data[:,1]==peds]\n",
    "    return ped_frames,ped_X,ped_Y\n"
   ]
  },
  {
   "cell_type": "code",
   "execution_count": 18,
   "metadata": {},
   "outputs": [],
   "source": [
    "def data_process2(file_path,minSeq_len,batch_size):\n",
    "# file_path='/home/roongtaaahsih/ped_traj/ewap_dataset/seq_eth/obsmat.txt'\n",
    "    data=np.genfromtxt(file_path)\n",
    "    ped_ids=np.unique(data[:,1]) #extracting uniqe id's fpr pedestrians\n",
    "    ped_frames={} #has pedestrian id's as keys and a list of the frames which the pedestrian is observed in \n",
    "    ped_coords={} #keys: pedestrian ids; value: list of pedestrian x coordinates in each frame\n",
    "#     ped_Y={} #key: oedestrian id's; value: list of pedestrin y coordinates in respective frames\n",
    "    for peds in ped_ids:\n",
    "        if(len(data[:,0][data[:,1]==peds])>=minSeq_len):\n",
    "            ped_frames[peds]=data[:,0][data[:,1]==peds]\n",
    "            ped_coords[peds]=(data[:,[2,4]][data[:,1]==peds]).T\n",
    "#             ped_Y[peds]=data[:,4][data[:,1]==peds]\n",
    "        if(len(ped_frames)==batch_size):\n",
    "            return ped_frames,ped_coords\n",
    "    return ped_frames,ped_coords"
   ]
  },
  {
   "cell_type": "code",
   "execution_count": 34,
   "metadata": {},
   "outputs": [],
   "source": [
    "def data_split(file_path):\n",
    "    frame_seq,coords_seq=data_process2(file_path,16,100)\n",
    "    s=list(frame_seq.keys())\n",
    "    train_input={}\n",
    "    train_target={}\n",
    "    test_input={}\n",
    "    test_target={}\n",
    "    for peds in s[0:70]:\n",
    "        train_input[peds]=coords_seq[peds][:,range(8)]\n",
    "        train_target[peds]=coords_seq[peds][:,range(8,16)]\n",
    "    for peds in s[70:100]:\n",
    "        test_input[peds]=coords_seq[peds][:,range(8)]\n",
    "        test_target[peds]=coords_seq[peds][:,range(8,16)]\n",
    "    return train_input, train_target,test_input,test_target    \n",
    "        \n"
   ]
  },
  {
   "cell_type": "code",
   "execution_count": 35,
   "metadata": {},
   "outputs": [
    {
     "name": "stdout",
     "output_type": "stream",
     "text": [
      "70 70 30 30\n"
     ]
    }
   ],
   "source": [
    "file_path='/home/roongtaaahsih/ped_traj/ewap_dataset/seq_eth/obsmat.txt'\n",
    "# frame_seq,coords_seq=data_process2(file_path,20,100)\n",
    "# s=list(frame_seq.keys())\n",
    "# print(s[0:10])\n",
    "# print(len(coords_seq[s[0:70]]))\n",
    "A,B,C,D=data_split(file_path)\n",
    "print(len(A),len(B),len(C),len(D))"
   ]
  },
  {
   "cell_type": "code",
   "execution_count": null,
   "metadata": {},
   "outputs": [],
   "source": []
  }
 ],
 "metadata": {
  "kernelspec": {
   "display_name": "Python 3",
   "language": "python",
   "name": "python3"
  },
  "language_info": {
   "codemirror_mode": {
    "name": "ipython",
    "version": 3
   },
   "file_extension": ".py",
   "mimetype": "text/x-python",
   "name": "python",
   "nbconvert_exporter": "python",
   "pygments_lexer": "ipython3",
   "version": "3.5.2"
  }
 },
 "nbformat": 4,
 "nbformat_minor": 2
}
