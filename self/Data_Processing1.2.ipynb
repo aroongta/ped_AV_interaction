{
 "cells": [
  {
   "cell_type": "code",
   "execution_count": 18,
   "metadata": {},
   "outputs": [],
   "source": [
    "import numpy as np\n",
    "file_path='/home/roongtaaahsih/ped_traj/ewap_dataset/seq_eth/obsmat.txt'"
   ]
  },
  {
   "cell_type": "code",
   "execution_count": 14,
   "metadata": {},
   "outputs": [],
   "source": [
    "num_feature = 5\n",
    "'''\n",
    "This function processes the data set from 4 rows to 3 rows, getting rid of the \"time\" row, since the data already ordered sequentially based on time.\n",
    "Then, it groups the data by the ID of the pedestrains, so that the data set is formed as a dictionary, with the keys to be the ID of pedestrains\n",
    "and the values to be array of xy tuples.\n",
    "'''\n",
    "def preprocess(file_path):\n",
    "    all_ped_data = {}\n",
    "    current_ped = 0\n",
    "    data = np.genfromtxt(file_path)\n",
    "\n",
    "    numPeds = np.size(np.unique(data[1, :]))        # Get the number of pedestrians in the current dataset\n",
    "\n",
    "    for ped in range(1, numPeds+1):\n",
    "        traj = data[:, data[:,1] == ped]           # Extract trajectory of the current ped\n",
    "        traj = traj[[3, 2], :]                      # Format it as (x, y, ID)\n",
    "        all_ped_data[current_ped + ped] = traj\n",
    "    return all_ped_data\n",
    "\n",
    "def aline_data(file_path, num_feature):\n",
    "    all_ped_data = preprocess(file_path)\n",
    "    for pedID, _ in all_ped_data.copy().items():\n",
    "        if all_ped_data[pedID].shape[1] <= num_feature:\n",
    "            del all_ped_data[pedID]\n",
    "    \n",
    "    same_size_data_X = []\n",
    "    same_size_data_Y = []\n",
    "    for pedID in all_ped_data:\n",
    "        hm_group = all_ped_data[pedID].shape[1]/(num_feature+1)\n",
    "        for i in range(hm_group):\n",
    "\n",
    "            same_size_data_X.append(all_ped_data[pedID][:, i*(num_feature+1) : (i+1)*(num_feature+1)-1])\n",
    "\n",
    "            same_size_data_Y.append(all_ped_data[pedID][:, i*(num_feature+1)+num_feature])\n",
    "\n",
    "        training_X = []\n",
    "        training_Y = []\n",
    "        dev_X = []\n",
    "        dev_Y = []\n",
    "        testing_X = []\n",
    "        testing_Y = []\n",
    "        print(len(same_size_data_X))\n",
    "        for j in range(len(same_size_data_X)):\n",
    "            if j < len(same_size_data_X)*0.6:\n",
    "                print('im here')\n",
    "                training_X.append(same_size_data_X[j])\n",
    "                training_Y.append(same_size_data_Y[j])\n",
    "            elif (j >= len(same_size_data_X)*0.6 and j < len(same_size_data_X)*0.8):\n",
    "                dev_X.append(same_size_data_X[j])\n",
    "                dev_Y.append(same_size_data_Y[j])\n",
    "            else:\n",
    "                testing_X.append(same_size_data_X[j])\n",
    "                testing_Y.append(same_size_data_Y[j])\n",
    "\n",
    "    return training_X, training_Y, dev_X, dev_Y, testing_X, testing_Y\n",
    "\n",
    "def next_batch(batch, batch_size, filt_X, filt_Y):\n",
    "    x_batch = []\n",
    "    y_batch = []\n",
    "    for i in range(batch_size):\n",
    "\n",
    "        x_batch.append(filt_X[batch*batch_size+i])\n",
    "        y_batch.append(filt_Y[batch*batch_size+i])\n",
    "\n",
    "    return x_batch, y_batch\n"
   ]
  },
  {
   "cell_type": "code",
   "execution_count": 15,
   "metadata": {},
   "outputs": [
    {
     "ename": "UnboundLocalError",
     "evalue": "local variable 'training_X' referenced before assignment",
     "output_type": "error",
     "traceback": [
      "\u001b[0;31m---------------------------------------------------------------------------\u001b[0m",
      "\u001b[0;31mUnboundLocalError\u001b[0m                         Traceback (most recent call last)",
      "\u001b[0;32m<ipython-input-15-c481b9df7737>\u001b[0m in \u001b[0;36m<module>\u001b[0;34m\u001b[0m\n\u001b[0;32m----> 1\u001b[0;31m \u001b[0mtraining_X\u001b[0m\u001b[0;34m,\u001b[0m \u001b[0mtraining_Y\u001b[0m\u001b[0;34m,\u001b[0m \u001b[0mdev_X\u001b[0m\u001b[0;34m,\u001b[0m \u001b[0mdev_Y\u001b[0m\u001b[0;34m,\u001b[0m \u001b[0mtesting_X\u001b[0m\u001b[0;34m,\u001b[0m \u001b[0mtesting_Y\u001b[0m \u001b[0;34m=\u001b[0m \u001b[0maline_data\u001b[0m\u001b[0;34m(\u001b[0m\u001b[0mdirectory\u001b[0m\u001b[0;34m,\u001b[0m \u001b[0mnum_feature\u001b[0m\u001b[0;34m)\u001b[0m\u001b[0;34m\u001b[0m\u001b[0m\n\u001b[0m\u001b[1;32m      2\u001b[0m \u001b[0mprint\u001b[0m\u001b[0;34m(\u001b[0m\u001b[0mlen\u001b[0m\u001b[0;34m(\u001b[0m\u001b[0mtraining_X\u001b[0m\u001b[0;34m)\u001b[0m\u001b[0;34m)\u001b[0m\u001b[0;34m\u001b[0m\u001b[0m\n\u001b[1;32m      3\u001b[0m \u001b[0mprint\u001b[0m\u001b[0;34m(\u001b[0m\u001b[0mlen\u001b[0m\u001b[0;34m(\u001b[0m\u001b[0mdev_X\u001b[0m\u001b[0;34m)\u001b[0m\u001b[0;34m)\u001b[0m\u001b[0;34m\u001b[0m\u001b[0m\n\u001b[1;32m      4\u001b[0m \u001b[0mprint\u001b[0m\u001b[0;34m(\u001b[0m\u001b[0mlen\u001b[0m\u001b[0;34m(\u001b[0m\u001b[0mtesting_X\u001b[0m\u001b[0;34m)\u001b[0m\u001b[0;34m)\u001b[0m\u001b[0;34m\u001b[0m\u001b[0m\n",
      "\u001b[0;32m<ipython-input-14-a4d4490e9521>\u001b[0m in \u001b[0;36maline_data\u001b[0;34m(file_path, num_feature)\u001b[0m\n\u001b[1;32m     48\u001b[0m                 \u001b[0mtesting_Y\u001b[0m\u001b[0;34m.\u001b[0m\u001b[0mappend\u001b[0m\u001b[0;34m(\u001b[0m\u001b[0msame_size_data_Y\u001b[0m\u001b[0;34m[\u001b[0m\u001b[0mj\u001b[0m\u001b[0;34m]\u001b[0m\u001b[0;34m)\u001b[0m\u001b[0;34m\u001b[0m\u001b[0m\n\u001b[1;32m     49\u001b[0m \u001b[0;34m\u001b[0m\u001b[0m\n\u001b[0;32m---> 50\u001b[0;31m     \u001b[0;32mreturn\u001b[0m \u001b[0mtraining_X\u001b[0m\u001b[0;34m,\u001b[0m \u001b[0mtraining_Y\u001b[0m\u001b[0;34m,\u001b[0m \u001b[0mdev_X\u001b[0m\u001b[0;34m,\u001b[0m \u001b[0mdev_Y\u001b[0m\u001b[0;34m,\u001b[0m \u001b[0mtesting_X\u001b[0m\u001b[0;34m,\u001b[0m \u001b[0mtesting_Y\u001b[0m\u001b[0;34m\u001b[0m\u001b[0m\n\u001b[0m\u001b[1;32m     51\u001b[0m \u001b[0;34m\u001b[0m\u001b[0m\n\u001b[1;32m     52\u001b[0m \u001b[0;32mdef\u001b[0m \u001b[0mnext_batch\u001b[0m\u001b[0;34m(\u001b[0m\u001b[0mbatch\u001b[0m\u001b[0;34m,\u001b[0m \u001b[0mbatch_size\u001b[0m\u001b[0;34m,\u001b[0m \u001b[0mfilt_X\u001b[0m\u001b[0;34m,\u001b[0m \u001b[0mfilt_Y\u001b[0m\u001b[0;34m)\u001b[0m\u001b[0;34m:\u001b[0m\u001b[0;34m\u001b[0m\u001b[0m\n",
      "\u001b[0;31mUnboundLocalError\u001b[0m: local variable 'training_X' referenced before assignment"
     ]
    }
   ],
   "source": [
    "training_X, training_Y, dev_X, dev_Y, testing_X, testing_Y = aline_data(file_path, num_feature)\n",
    "print(len(training_X))\n",
    "print(len(dev_X))\n",
    "print(len(testing_X))"
   ]
  },
  {
   "cell_type": "code",
   "execution_count": 17,
   "metadata": {},
   "outputs": [
    {
     "data": {
      "text/plain": [
       "{1: array([[1.],\n",
       "        [1.]]),\n",
       " 2: array([], shape=(2, 0), dtype=float64),\n",
       " 3: array([], shape=(2, 0), dtype=float64),\n",
       " 4: array([], shape=(2, 0), dtype=float64),\n",
       " 5: array([], shape=(2, 0), dtype=float64),\n",
       " 6: array([], shape=(2, 0), dtype=float64),\n",
       " 7: array([], shape=(2, 0), dtype=float64)}"
      ]
     },
     "execution_count": 17,
     "metadata": {},
     "output_type": "execute_result"
    }
   ],
   "source": [
    "data=preprocess(file_path)\n",
    "data"
   ]
  },
  {
   "cell_type": "code",
   "execution_count": 22,
   "metadata": {},
   "outputs": [
    {
     "name": "stdout",
     "output_type": "stream",
     "text": [
      "360\n"
     ]
    },
    {
     "ename": "IndexError",
     "evalue": "boolean index did not match indexed array along dimension 1; dimension is 8 but corresponding boolean dimension is 8908",
     "output_type": "error",
     "traceback": [
      "\u001b[0;31m---------------------------------------------------------------------------\u001b[0m",
      "\u001b[0;31mIndexError\u001b[0m                                Traceback (most recent call last)",
      "\u001b[0;32m<ipython-input-22-64fe2d337ab5>\u001b[0m in \u001b[0;36m<module>\u001b[0;34m\u001b[0m\n\u001b[1;32m      5\u001b[0m \u001b[0mprint\u001b[0m\u001b[0;34m(\u001b[0m\u001b[0mnumPeds\u001b[0m\u001b[0;34m)\u001b[0m\u001b[0;34m\u001b[0m\u001b[0m\n\u001b[1;32m      6\u001b[0m \u001b[0;32mfor\u001b[0m \u001b[0mped\u001b[0m \u001b[0;32min\u001b[0m \u001b[0mrange\u001b[0m\u001b[0;34m(\u001b[0m\u001b[0;36m1\u001b[0m\u001b[0;34m,\u001b[0m \u001b[0mnumPeds\u001b[0m\u001b[0;34m+\u001b[0m\u001b[0;36m1\u001b[0m\u001b[0;34m)\u001b[0m\u001b[0;34m:\u001b[0m\u001b[0;34m\u001b[0m\u001b[0m\n\u001b[0;32m----> 7\u001b[0;31m     \u001b[0mtraj\u001b[0m \u001b[0;34m=\u001b[0m \u001b[0mdata\u001b[0m\u001b[0;34m[\u001b[0m\u001b[0;34m:\u001b[0m\u001b[0;34m,\u001b[0m \u001b[0mdata\u001b[0m\u001b[0;34m[\u001b[0m\u001b[0;34m:\u001b[0m\u001b[0;34m,\u001b[0m\u001b[0;36m1\u001b[0m\u001b[0;34m]\u001b[0m \u001b[0;34m==\u001b[0m \u001b[0mped\u001b[0m\u001b[0;34m]\u001b[0m           \u001b[0;31m# Extract trajectory of the current ped\u001b[0m\u001b[0;34m\u001b[0m\u001b[0m\n\u001b[0m\u001b[1;32m      8\u001b[0m     \u001b[0mtraj\u001b[0m \u001b[0;34m=\u001b[0m \u001b[0mtraj\u001b[0m\u001b[0;34m[\u001b[0m\u001b[0;34m:\u001b[0m\u001b[0;34m,\u001b[0m\u001b[0;34m[\u001b[0m\u001b[0;36m3\u001b[0m\u001b[0;34m,\u001b[0m \u001b[0;36m2\u001b[0m\u001b[0;34m]\u001b[0m\u001b[0;34m]\u001b[0m                      \u001b[0;31m# Format it as (x, y, ID)\u001b[0m\u001b[0;34m\u001b[0m\u001b[0m\n\u001b[1;32m      9\u001b[0m     \u001b[0mall_ped_data\u001b[0m\u001b[0;34m[\u001b[0m\u001b[0mcurrent_ped\u001b[0m \u001b[0;34m+\u001b[0m \u001b[0mped\u001b[0m\u001b[0;34m]\u001b[0m \u001b[0;34m=\u001b[0m \u001b[0mtraj\u001b[0m\u001b[0;34m\u001b[0m\u001b[0m\n",
      "\u001b[0;31mIndexError\u001b[0m: boolean index did not match indexed array along dimension 1; dimension is 8 but corresponding boolean dimension is 8908"
     ]
    }
   ],
   "source": [
    "all_ped_data = {}\n",
    "current_ped = 0\n",
    "data = np.genfromtxt(file_path)\n",
    "numPeds = np.size(np.unique(data[:, 1]))        # Get the number of pedestrians in the current dataset\n",
    "print(numPeds)\n",
    "for ped in range(1, numPeds+1):\n",
    "    traj = data[:, data[:,1] == ped]           # Extract trajectory of the current ped\n",
    "    traj = traj[:,[3, 2]]                      # Format it as (x, y, ID)\n",
    "    all_ped_data[current_ped + ped] = traj"
   ]
  },
  {
   "cell_type": "code",
   "execution_count": null,
   "metadata": {},
   "outputs": [],
   "source": []
  }
 ],
 "metadata": {
  "kernelspec": {
   "display_name": "Python 3",
   "language": "python",
   "name": "python3"
  },
  "language_info": {
   "codemirror_mode": {
    "name": "ipython",
    "version": 3
   },
   "file_extension": ".py",
   "mimetype": "text/x-python",
   "name": "python",
   "nbconvert_exporter": "python",
   "pygments_lexer": "ipython3",
   "version": "3.5.2"
  }
 },
 "nbformat": 4,
 "nbformat_minor": 2
}
