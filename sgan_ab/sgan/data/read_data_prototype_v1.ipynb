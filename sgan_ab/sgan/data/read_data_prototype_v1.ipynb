{
 "cells": [
  {
   "cell_type": "code",
   "execution_count": 69,
   "metadata": {},
   "outputs": [],
   "source": [
    "import trajectories\n",
    "import loader\n",
    "import argparse\n",
    "import gc\n",
    "import logging\n",
    "import os\n",
    "import sys\n",
    "import time"
   ]
  },
  {
   "cell_type": "code",
   "execution_count": 73,
   "metadata": {},
   "outputs": [
    {
     "data": {
      "text/plain": [
       "ArgumentParser(prog='ipykernel_launcher.py', usage=None, description=None, formatter_class=<class 'argparse.HelpFormatter'>, conflict_handler='error', add_help=True)"
      ]
     },
     "execution_count": 73,
     "metadata": {},
     "output_type": "execute_result"
    }
   ],
   "source": [
    "data_dir = \"/Users/bryanzhao/24787-pedestrian/sgan/scripts/datasets/eth/train\"\n",
    "# data = trajectories.read_file(data_dir)\n",
    "\n",
    "parser = argparse.ArgumentParser()"
   ]
  },
  {
   "cell_type": "code",
   "execution_count": 74,
   "metadata": {
    "scrolled": true
   },
   "outputs": [
    {
     "name": "stderr",
     "output_type": "stream",
     "text": [
      "usage: ipykernel_launcher.py [-h] [--input_size INPUT_SIZE]\n",
      "                             [--output_size OUTPUT_SIZE] [--rnn_size RNN_SIZE]\n",
      "                             [--batch_size BATCH_SIZE]\n",
      "                             [--seq_length SEQ_LENGTH]\n",
      "                             [--pred_length PRED_LENGTH]\n",
      "                             [--num_epochs NUM_EPOCHS]\n",
      "                             [--save_every SAVE_EVERY] [--grad_clip GRAD_CLIP]\n",
      "                             [--learning_rate LEARNING_RATE]\n",
      "                             [--decay_rate DECAY_RATE] [--dropout DROPOUT]\n",
      "                             [--embedding_size EMBEDDING_SIZE]\n",
      "                             [--neighborhood_size NEIGHBORHOOD_SIZE]\n",
      "                             [--grid_size GRID_SIZE] [--maxNumPeds MAXNUMPEDS]\n",
      "                             [--lambda_param LAMBDA_PARAM] [--use_cuda]\n",
      "                             [--gru] [--drive]\n",
      "                             [--num_validation NUM_VALIDATION]\n",
      "                             [--freq_validation FREQ_VALIDATION]\n",
      "                             [--freq_optimizer FREQ_OPTIMIZER] [--grid]\n",
      "                             [--dataset_name DATASET_NAME] [--delim DELIM]\n",
      "                             [--loader_num_workers LOADER_NUM_WORKERS]\n",
      "                             [--obs_len OBS_LEN] [--pred_len PRED_LEN]\n",
      "                             [--skip SKIP]\n",
      "ipykernel_launcher.py: error: unrecognized arguments: -f /Users/bryanzhao/Library/Jupyter/runtime/kernel-fdc63422-459a-4915-af6e-df402ff43479.json\n"
     ]
    },
    {
     "ename": "SystemExit",
     "evalue": "2",
     "output_type": "error",
     "traceback": [
      "An exception has occurred, use %tb to see the full traceback.\n",
      "\u001b[0;31mSystemExit\u001b[0m\u001b[0;31m:\u001b[0m 2\n"
     ]
    },
    {
     "name": "stderr",
     "output_type": "stream",
     "text": [
      "/Users/bryanzhao/anaconda3/lib/python3.6/site-packages/IPython/core/interactiveshell.py:2971: UserWarning: To exit: use 'exit', 'quit', or Ctrl-D.\n",
      "  warn(\"To exit: use 'exit', 'quit', or Ctrl-D.\", stacklevel=1)\n"
     ]
    }
   ],
   "source": [
    "parser.add_argument('--input_size', type=int, default=2)\n",
    "parser.add_argument('--output_size', type=int, default=5)\n",
    "# RNN size parameter (dimension of the output/hidden state)\n",
    "parser.add_argument('--rnn_size', type=int, default=128,\n",
    "                    help='size of RNN hidden state')\n",
    "# Size of each batch parameter\n",
    "parser.add_argument('--batch_size', type=int, default=5,\n",
    "                    help='minibatch size')\n",
    "# Length of sequence to be considered parameter\n",
    "parser.add_argument('--seq_length', type=int, default=20,\n",
    "                    help='RNN sequence length')\n",
    "parser.add_argument('--pred_length', type=int, default=12,\n",
    "                    help='prediction length')\n",
    "# Number of epochs parameter\n",
    "parser.add_argument('--num_epochs', type=int, default=30,\n",
    "                    help='number of epochs')\n",
    "# Frequency at which the model should be saved parameter\n",
    "parser.add_argument('--save_every', type=int, default=400,\n",
    "                    help='save frequency')\n",
    "# TODO: (resolve) Clipping gradients for now. No idea whether we should\n",
    "# Gradient value at which it should be clipped\n",
    "parser.add_argument('--grad_clip', type=float, default=10.,\n",
    "                    help='clip gradients at this value')\n",
    "# Learning rate parameter\n",
    "parser.add_argument('--learning_rate', type=float, default=0.003,\n",
    "                    help='learning rate')\n",
    "# Decay rate for the learning rate parameter\n",
    "parser.add_argument('--decay_rate', type=float, default=0.95,\n",
    "                    help='decay rate for rmsprop')\n",
    "# Dropout not implemented.\n",
    "# Dropout probability parameter\n",
    "parser.add_argument('--dropout', type=float, default=0.5,\n",
    "                    help='dropout probability')\n",
    "# Dimension of the embeddings parameter\n",
    "parser.add_argument('--embedding_size', type=int, default=64,\n",
    "                    help='Embedding dimension for the spatial coordinates')\n",
    "# Size of neighborhood to be considered parameter\n",
    "parser.add_argument('--neighborhood_size', type=int, default=32,\n",
    "                    help='Neighborhood size to be considered for social grid')\n",
    "# Size of the social grid parameter\n",
    "parser.add_argument('--grid_size', type=int, default=4,\n",
    "                    help='Grid size of the social grid')\n",
    "# Maximum number of pedestrians to be considered\n",
    "parser.add_argument('--maxNumPeds', type=int, default=27,\n",
    "                    help='Maximum Number of Pedestrians')\n",
    "\n",
    "# Lambda regularization parameter (L2)\n",
    "parser.add_argument('--lambda_param', type=float, default=0.0005,\n",
    "                    help='L2 regularization parameter')\n",
    "# Cuda parameter\n",
    "parser.add_argument('--use_cuda', action=\"store_true\", default=False,\n",
    "                    help='Use GPU or not')\n",
    "# GRU parameter\n",
    "parser.add_argument('--gru', action=\"store_true\", default=False,\n",
    "                    help='True : GRU cell, False: LSTM cell')\n",
    "# drive option\n",
    "parser.add_argument('--drive', action=\"store_true\", default=False,\n",
    "                    help='Use Google drive or not')\n",
    "# number of validation will be used\n",
    "parser.add_argument('--num_validation', type=int, default=2,\n",
    "                    help='Total number of validation dataset for validate accuracy')\n",
    "# frequency of validation\n",
    "parser.add_argument('--freq_validation', type=int, default=1,\n",
    "                    help='Frequency number(epoch) of validation using validation data')\n",
    "# frequency of optimazer learning decay\n",
    "parser.add_argument('--freq_optimizer', type=int, default=8,\n",
    "                    help='Frequency number(epoch) of learning decay for optimizer')\n",
    "# store grids in epoch 0 and use further.2 times faster -> Intensive memory use around 12 GB\n",
    "parser.add_argument('--grid', action=\"store_true\", default=True,\n",
    "                    help='Whether store grids and use further epoch')\n",
    "\n",
    "# Dataset options\n",
    "parser.add_argument('--dataset_name', default='zara1', type=str)\n",
    "parser.add_argument('--delim', default='\\t')\n",
    "parser.add_argument('--loader_num_workers', default=4, type=int)\n",
    "parser.add_argument('--obs_len', default=8, type=int)\n",
    "parser.add_argument('--pred_len', default=8, type=int)\n",
    "parser.add_argument('--skip', default=1, type=int)\n",
    "\n",
    "args = parser.parse_args()"
   ]
  },
  {
   "cell_type": "code",
   "execution_count": 71,
   "metadata": {},
   "outputs": [
    {
     "ename": "AttributeError",
     "evalue": "type object 'ArgumentParser' has no attribute 'obs_len'",
     "output_type": "error",
     "traceback": [
      "\u001b[0;31m---------------------------------------------------------------------------\u001b[0m",
      "\u001b[0;31mAttributeError\u001b[0m                            Traceback (most recent call last)",
      "\u001b[0;32m<ipython-input-71-6643c171d537>\u001b[0m in \u001b[0;36m<module>\u001b[0;34m()\u001b[0m\n\u001b[0;32m----> 1\u001b[0;31m \u001b[0mdataset\u001b[0m\u001b[0;34m,\u001b[0m \u001b[0mdataloader\u001b[0m \u001b[0;34m=\u001b[0m \u001b[0mloader\u001b[0m\u001b[0;34m.\u001b[0m\u001b[0mdata_loader\u001b[0m\u001b[0;34m(\u001b[0m\u001b[0margs\u001b[0m\u001b[0;34m,\u001b[0m \u001b[0mdata_dir\u001b[0m\u001b[0;34m)\u001b[0m\u001b[0;34m\u001b[0m\u001b[0m\n\u001b[0m",
      "\u001b[0;32m~/24787-pedestrian/sgan/sgan/data/loader.py\u001b[0m in \u001b[0;36mdata_loader\u001b[0;34m(args, path)\u001b[0m\n\u001b[1;32m      7\u001b[0m         \u001b[0mpath\u001b[0m\u001b[0;34m,\u001b[0m\u001b[0;34m\u001b[0m\u001b[0m\n\u001b[1;32m      8\u001b[0m         \u001b[0mobs_len\u001b[0m\u001b[0;34m=\u001b[0m\u001b[0margs\u001b[0m\u001b[0;34m.\u001b[0m\u001b[0mobs_len\u001b[0m\u001b[0;34m,\u001b[0m\u001b[0;34m\u001b[0m\u001b[0m\n\u001b[0;32m----> 9\u001b[0;31m         \u001b[0mpred_len\u001b[0m\u001b[0;34m=\u001b[0m\u001b[0margs\u001b[0m\u001b[0;34m.\u001b[0m\u001b[0mpred_len\u001b[0m\u001b[0;34m,\u001b[0m\u001b[0;34m\u001b[0m\u001b[0m\n\u001b[0m\u001b[1;32m     10\u001b[0m         \u001b[0mskip\u001b[0m\u001b[0;34m=\u001b[0m\u001b[0margs\u001b[0m\u001b[0;34m.\u001b[0m\u001b[0mskip\u001b[0m\u001b[0;34m,\u001b[0m\u001b[0;34m\u001b[0m\u001b[0m\n\u001b[1;32m     11\u001b[0m         delim=args.delim)\n",
      "\u001b[0;31mAttributeError\u001b[0m: type object 'ArgumentParser' has no attribute 'obs_len'"
     ]
    }
   ],
   "source": [
    "dataset, dataloader = loader.data_loader(args, data_dir)"
   ]
  },
  {
   "cell_type": "code",
   "execution_count": null,
   "metadata": {},
   "outputs": [],
   "source": []
  }
 ],
 "metadata": {
  "kernelspec": {
   "display_name": "Python 3",
   "language": "python",
   "name": "python3"
  },
  "language_info": {
   "codemirror_mode": {
    "name": "ipython",
    "version": 3
   },
   "file_extension": ".py",
   "mimetype": "text/x-python",
   "name": "python",
   "nbconvert_exporter": "python",
   "pygments_lexer": "ipython3",
   "version": "3.6.5"
  }
 },
 "nbformat": 4,
 "nbformat_minor": 2
}
